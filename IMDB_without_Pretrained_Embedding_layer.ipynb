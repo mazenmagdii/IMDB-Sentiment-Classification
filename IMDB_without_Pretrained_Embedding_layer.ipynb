{
  "nbformat": 4,
  "nbformat_minor": 0,
  "metadata": {
    "colab": {
      "provenance": [],
      "authorship_tag": "ABX9TyNKI9VWt5Y11RzlQgkHMuGX",
      "include_colab_link": true
    },
    "kernelspec": {
      "name": "python3",
      "display_name": "Python 3"
    },
    "language_info": {
      "name": "python"
    }
  },
  "cells": [
    {
      "cell_type": "markdown",
      "metadata": {
        "id": "view-in-github",
        "colab_type": "text"
      },
      "source": [
        "<a href=\"https://colab.research.google.com/github/mazenmagdii/IMDB-Sentiment-Classification/blob/main/IMDB_without_Pretrained_Embedding_layer.ipynb\" target=\"_parent\"><img src=\"https://colab.research.google.com/assets/colab-badge.svg\" alt=\"Open In Colab\"/></a>"
      ]
    },
    {
      "cell_type": "code",
      "execution_count": 1,
      "metadata": {
        "id": "3X7P2UiPUbQ1"
      },
      "outputs": [],
      "source": [
        "from tensorflow.keras.preprocessing.text import Tokenizer\n",
        "from tensorflow.keras.preprocessing.sequence import pad_sequences\n",
        "from tensorflow.keras.models import Sequential\n",
        "from tensorflow.keras.layers import Dense,Embedding,LSTM,Dropout,Bidirectional,GRU\n",
        "from tensorflow.keras.callbacks import EarlyStopping,ModelCheckpoint\n",
        "from sklearn.model_selection import train_test_split\n",
        "from tensorflow.keras.layers import SpatialDropout1D\n",
        "from tensorflow.keras.optimizers import Adam\n",
        "from tensorflow.keras.callbacks import ReduceLROnPlateau\n",
        "from tensorflow.keras.layers import Conv1D, MaxPooling1D, Flatten,BatchNormalization"
      ]
    },
    {
      "cell_type": "code",
      "source": [
        "from gensim.models import Word2Vec\n",
        "import tensorflow as tf\n",
        "import numpy as np\n",
        "import matplotlib.pyplot as plt\n",
        "from tensorflow.keras.datasets import imdb\n",
        "(x_train,y_train),(x_test,y_test)=imdb.load_data(num_words=20000)"
      ],
      "metadata": {
        "colab": {
          "base_uri": "https://localhost:8080/"
        },
        "id": "NoVSFBBEUdia",
        "outputId": "5d9f9f3b-d453-4755-ec6f-c250eee2aa3e"
      },
      "execution_count": 2,
      "outputs": [
        {
          "output_type": "stream",
          "name": "stdout",
          "text": [
            "Downloading data from https://storage.googleapis.com/tensorflow/tf-keras-datasets/imdb.npz\n",
            "\u001b[1m17464789/17464789\u001b[0m \u001b[32m━━━━━━━━━━━━━━━━━━━━\u001b[0m\u001b[37m\u001b[0m \u001b[1m0s\u001b[0m 0us/step\n"
          ]
        }
      ]
    },
    {
      "cell_type": "code",
      "source": [
        "X=np.concatenate((x_train,x_test))\n",
        "Y=np.concatenate((y_train,y_test))\n",
        "x_train,x_temp,y_train,y_temp=train_test_split(X,Y,test_size=0.3,shuffle=True,random_state=42)\n",
        "x_val,x_test,y_val,y_test=train_test_split(x_temp,y_temp,test_size=0.5,shuffle=True,random_state=42)"
      ],
      "metadata": {
        "id": "G73pe31yUha_"
      },
      "execution_count": 3,
      "outputs": []
    },
    {
      "cell_type": "code",
      "source": [
        "word_i= imdb.get_word_index()\n",
        "reverse_word_i=dict([(value,key) for (key,value) in word_i.items()])\n",
        "def decode_review(encoded_review):\n",
        "  return ' '.join([reverse_word_i.get(i-3,'?') for i in encoded_review])"
      ],
      "metadata": {
        "colab": {
          "base_uri": "https://localhost:8080/"
        },
        "id": "Ifdq4CC7U-Ip",
        "outputId": "c0cb3dd1-35a7-4fe6-f3a8-2f58f0683652"
      },
      "execution_count": 4,
      "outputs": [
        {
          "output_type": "stream",
          "name": "stdout",
          "text": [
            "Downloading data from https://storage.googleapis.com/tensorflow/tf-keras-datasets/imdb_word_index.json\n",
            "\u001b[1m1641221/1641221\u001b[0m \u001b[32m━━━━━━━━━━━━━━━━━━━━\u001b[0m\u001b[37m\u001b[0m \u001b[1m0s\u001b[0m 0us/step\n"
          ]
        }
      ]
    },
    {
      "cell_type": "code",
      "source": [
        "train_texts = [decode_review(review) for review in x_train]\n",
        "val_texts = [decode_review(review) for review in x_val]\n",
        "test_texts = [decode_review(review) for review in x_test]"
      ],
      "metadata": {
        "id": "T05hdmMeUp2n"
      },
      "execution_count": 5,
      "outputs": []
    },
    {
      "cell_type": "code",
      "source": [
        "tok=Tokenizer(num_words=20000)\n",
        "tok.fit_on_texts(train_texts)"
      ],
      "metadata": {
        "id": "sOuQ2BcDUr7X"
      },
      "execution_count": 6,
      "outputs": []
    },
    {
      "cell_type": "code",
      "source": [
        "X_train_seq = tok.texts_to_sequences(train_texts)\n",
        "X_val_seq = tok.texts_to_sequences(val_texts)\n",
        "X_test_seq = tok.texts_to_sequences(test_texts)"
      ],
      "metadata": {
        "id": "noAFOtXfVI_b"
      },
      "execution_count": 7,
      "outputs": []
    },
    {
      "cell_type": "code",
      "source": [
        "max_length = 500\n",
        "X_train_pad = pad_sequences(X_train_seq, maxlen=max_length)\n",
        "X_val_pad = pad_sequences(X_val_seq, maxlen=max_length)\n",
        "X_test_pad = pad_sequences(X_test_seq, maxlen=max_length)"
      ],
      "metadata": {
        "id": "k9RWlJP2VNCQ"
      },
      "execution_count": 8,
      "outputs": []
    },
    {
      "cell_type": "code",
      "source": [
        "model = Sequential([\n",
        "    Embedding(input_dim=20000, output_dim=100, input_length=max_length, mask_zero=True),\n",
        "    SpatialDropout1D(0.4),\n",
        "    LSTM( , recurrent_dropout=0.3),\n",
        "    Dense(1, activation='sigmoid')\n",
        "\n",
        "])\n",
        "\n",
        "# Compile the model\n",
        "model.compile(loss='binary_crossentropy', optimizer=Adam(learning_rate=0.001), metrics=['accuracy'])"
      ],
      "metadata": {
        "colab": {
          "base_uri": "https://localhost:8080/"
        },
        "id": "gblLu4qiVOr_",
        "outputId": "0b4b6906-c120-4fd0-e132-f09454860965"
      },
      "execution_count": 9,
      "outputs": [
        {
          "output_type": "stream",
          "name": "stderr",
          "text": [
            "/usr/local/lib/python3.10/dist-packages/keras/src/layers/core/embedding.py:90: UserWarning: Argument `input_length` is deprecated. Just remove it.\n",
            "  warnings.warn(\n"
          ]
        }
      ]
    },
    {
      "cell_type": "code",
      "source": [
        "es = EarlyStopping(monitor='val_loss', mode='min', verbose=True, patience=10)\n",
        "mc = ModelCheckpoint('best_model.keras', monitor='val_accuracy', mode='max', verbose=True, save_best_only=True)\n",
        "rlr = ReduceLROnPlateau(monitor='val_loss', factor=0.25, patience=3, verbose=True,min_lr=0.0000001 )"
      ],
      "metadata": {
        "id": "HpjOKiXmVVPn"
      },
      "execution_count": 10,
      "outputs": []
    },
    {
      "cell_type": "code",
      "source": [
        "model.load_weights('best_model.keras')"
      ],
      "metadata": {
        "id": "eDJQGkHXhGkp"
      },
      "execution_count": 16,
      "outputs": []
    },
    {
      "cell_type": "code",
      "source": [
        "history = model.fit(X_train_pad, y_train, epochs=50, batch_size=64, validation_data=(X_val_pad, y_val), verbose=True, callbacks=[es,mc,rlr])"
      ],
      "metadata": {
        "colab": {
          "base_uri": "https://localhost:8080/"
        },
        "id": "ltGUHeN4VaKn",
        "outputId": "50af1db7-f4a1-441e-f1c7-d147c4f570ed"
      },
      "execution_count": 11,
      "outputs": [
        {
          "output_type": "stream",
          "name": "stdout",
          "text": [
            "Epoch 1/50\n",
            "\u001b[1m547/547\u001b[0m \u001b[32m━━━━━━━━━━━━━━━━━━━━\u001b[0m\u001b[37m\u001b[0m \u001b[1m0s\u001b[0m 982ms/step - accuracy: 0.6977 - loss: 0.5787\n",
            "Epoch 1: val_accuracy improved from -inf to 0.86693, saving model to best_model.keras\n",
            "\u001b[1m547/547\u001b[0m \u001b[32m━━━━━━━━━━━━━━━━━━━━\u001b[0m\u001b[37m\u001b[0m \u001b[1m576s\u001b[0m 1s/step - accuracy: 0.6978 - loss: 0.5786 - val_accuracy: 0.8669 - val_loss: 0.3310 - learning_rate: 0.0010\n",
            "Epoch 2/50\n",
            "\u001b[1m547/547\u001b[0m \u001b[32m━━━━━━━━━━━━━━━━━━━━\u001b[0m\u001b[37m\u001b[0m \u001b[1m0s\u001b[0m 974ms/step - accuracy: 0.8451 - loss: 0.3670\n",
            "Epoch 2: val_accuracy did not improve from 0.86693\n",
            "\u001b[1m547/547\u001b[0m \u001b[32m━━━━━━━━━━━━━━━━━━━━\u001b[0m\u001b[37m\u001b[0m \u001b[1m618s\u001b[0m 1s/step - accuracy: 0.8451 - loss: 0.3670 - val_accuracy: 0.8572 - val_loss: 0.3569 - learning_rate: 0.0010\n",
            "Epoch 3/50\n",
            "\u001b[1m547/547\u001b[0m \u001b[32m━━━━━━━━━━━━━━━━━━━━\u001b[0m\u001b[37m\u001b[0m \u001b[1m0s\u001b[0m 981ms/step - accuracy: 0.8685 - loss: 0.3212\n",
            "Epoch 3: val_accuracy improved from 0.86693 to 0.87533, saving model to best_model.keras\n",
            "\u001b[1m547/547\u001b[0m \u001b[32m━━━━━━━━━━━━━━━━━━━━\u001b[0m\u001b[37m\u001b[0m \u001b[1m624s\u001b[0m 1s/step - accuracy: 0.8685 - loss: 0.3212 - val_accuracy: 0.8753 - val_loss: 0.3208 - learning_rate: 0.0010\n",
            "Epoch 4/50\n",
            "\u001b[1m547/547\u001b[0m \u001b[32m━━━━━━━━━━━━━━━━━━━━\u001b[0m\u001b[37m\u001b[0m \u001b[1m0s\u001b[0m 977ms/step - accuracy: 0.8862 - loss: 0.2870\n",
            "Epoch 4: val_accuracy did not improve from 0.87533\n",
            "\u001b[1m547/547\u001b[0m \u001b[32m━━━━━━━━━━━━━━━━━━━━\u001b[0m\u001b[37m\u001b[0m \u001b[1m620s\u001b[0m 1s/step - accuracy: 0.8862 - loss: 0.2870 - val_accuracy: 0.7541 - val_loss: 0.5138 - learning_rate: 0.0010\n",
            "Epoch 5/50\n",
            "\u001b[1m547/547\u001b[0m \u001b[32m━━━━━━━━━━━━━━━━━━━━\u001b[0m\u001b[37m\u001b[0m \u001b[1m0s\u001b[0m 976ms/step - accuracy: 0.8918 - loss: 0.2715\n",
            "Epoch 5: val_accuracy did not improve from 0.87533\n",
            "\u001b[1m547/547\u001b[0m \u001b[32m━━━━━━━━━━━━━━━━━━━━\u001b[0m\u001b[37m\u001b[0m \u001b[1m622s\u001b[0m 1s/step - accuracy: 0.8918 - loss: 0.2716 - val_accuracy: 0.8651 - val_loss: 0.3561 - learning_rate: 0.0010\n",
            "Epoch 6/50\n",
            "\u001b[1m547/547\u001b[0m \u001b[32m━━━━━━━━━━━━━━━━━━━━\u001b[0m\u001b[37m\u001b[0m \u001b[1m0s\u001b[0m 976ms/step - accuracy: 0.9084 - loss: 0.2439\n",
            "Epoch 6: val_accuracy did not improve from 0.87533\n",
            "\n",
            "Epoch 6: ReduceLROnPlateau reducing learning rate to 0.0002500000118743628.\n",
            "\u001b[1m547/547\u001b[0m \u001b[32m━━━━━━━━━━━━━━━━━━━━\u001b[0m\u001b[37m\u001b[0m \u001b[1m622s\u001b[0m 1s/step - accuracy: 0.9084 - loss: 0.2439 - val_accuracy: 0.8644 - val_loss: 0.3582 - learning_rate: 0.0010\n",
            "Epoch 7/50\n",
            "\u001b[1m547/547\u001b[0m \u001b[32m━━━━━━━━━━━━━━━━━━━━\u001b[0m\u001b[37m\u001b[0m \u001b[1m0s\u001b[0m 973ms/step - accuracy: 0.9322 - loss: 0.1838\n",
            "Epoch 7: val_accuracy did not improve from 0.87533\n",
            "\u001b[1m547/547\u001b[0m \u001b[32m━━━━━━━━━━━━━━━━━━━━\u001b[0m\u001b[37m\u001b[0m \u001b[1m620s\u001b[0m 1s/step - accuracy: 0.9322 - loss: 0.1838 - val_accuracy: 0.8545 - val_loss: 0.3924 - learning_rate: 2.5000e-04\n",
            "Epoch 8/50\n",
            "\u001b[1m547/547\u001b[0m \u001b[32m━━━━━━━━━━━━━━━━━━━━\u001b[0m\u001b[37m\u001b[0m \u001b[1m0s\u001b[0m 978ms/step - accuracy: 0.9391 - loss: 0.1686\n",
            "Epoch 8: val_accuracy did not improve from 0.87533\n",
            "\u001b[1m547/547\u001b[0m \u001b[32m━━━━━━━━━━━━━━━━━━━━\u001b[0m\u001b[37m\u001b[0m \u001b[1m565s\u001b[0m 1s/step - accuracy: 0.9391 - loss: 0.1685 - val_accuracy: 0.8701 - val_loss: 0.3787 - learning_rate: 2.5000e-04\n",
            "Epoch 9/50\n",
            "\u001b[1m547/547\u001b[0m \u001b[32m━━━━━━━━━━━━━━━━━━━━\u001b[0m\u001b[37m\u001b[0m \u001b[1m0s\u001b[0m 977ms/step - accuracy: 0.9434 - loss: 0.1565\n",
            "Epoch 9: val_accuracy did not improve from 0.87533\n",
            "\n",
            "Epoch 9: ReduceLROnPlateau reducing learning rate to 6.25000029685907e-05.\n",
            "\u001b[1m547/547\u001b[0m \u001b[32m━━━━━━━━━━━━━━━━━━━━\u001b[0m\u001b[37m\u001b[0m \u001b[1m564s\u001b[0m 1s/step - accuracy: 0.9434 - loss: 0.1565 - val_accuracy: 0.8680 - val_loss: 0.3844 - learning_rate: 2.5000e-04\n",
            "Epoch 10/50\n",
            "\u001b[1m547/547\u001b[0m \u001b[32m━━━━━━━━━━━━━━━━━━━━\u001b[0m\u001b[37m\u001b[0m \u001b[1m0s\u001b[0m 976ms/step - accuracy: 0.9499 - loss: 0.1421\n",
            "Epoch 10: val_accuracy did not improve from 0.87533\n",
            "\u001b[1m547/547\u001b[0m \u001b[32m━━━━━━━━━━━━━━━━━━━━\u001b[0m\u001b[37m\u001b[0m \u001b[1m622s\u001b[0m 1s/step - accuracy: 0.9499 - loss: 0.1421 - val_accuracy: 0.8673 - val_loss: 0.3860 - learning_rate: 6.2500e-05\n",
            "Epoch 11/50\n",
            "\u001b[1m547/547\u001b[0m \u001b[32m━━━━━━━━━━━━━━━━━━━━\u001b[0m\u001b[37m\u001b[0m \u001b[1m0s\u001b[0m 969ms/step - accuracy: 0.9506 - loss: 0.1370\n",
            "Epoch 11: val_accuracy did not improve from 0.87533\n",
            "\u001b[1m547/547\u001b[0m \u001b[32m━━━━━━━━━━━━━━━━━━━━\u001b[0m\u001b[37m\u001b[0m \u001b[1m629s\u001b[0m 1s/step - accuracy: 0.9506 - loss: 0.1370 - val_accuracy: 0.8660 - val_loss: 0.3914 - learning_rate: 6.2500e-05\n",
            "Epoch 12/50\n",
            "\u001b[1m547/547\u001b[0m \u001b[32m━━━━━━━━━━━━━━━━━━━━\u001b[0m\u001b[37m\u001b[0m \u001b[1m0s\u001b[0m 974ms/step - accuracy: 0.9515 - loss: 0.1357\n",
            "Epoch 12: val_accuracy did not improve from 0.87533\n",
            "\n",
            "Epoch 12: ReduceLROnPlateau reducing learning rate to 1.5625000742147677e-05.\n",
            "\u001b[1m547/547\u001b[0m \u001b[32m━━━━━━━━━━━━━━━━━━━━\u001b[0m\u001b[37m\u001b[0m \u001b[1m613s\u001b[0m 1s/step - accuracy: 0.9515 - loss: 0.1357 - val_accuracy: 0.8671 - val_loss: 0.3928 - learning_rate: 6.2500e-05\n",
            "Epoch 13/50\n",
            "\u001b[1m547/547\u001b[0m \u001b[32m━━━━━━━━━━━━━━━━━━━━\u001b[0m\u001b[37m\u001b[0m \u001b[1m0s\u001b[0m 964ms/step - accuracy: 0.9531 - loss: 0.1326\n",
            "Epoch 13: val_accuracy did not improve from 0.87533\n",
            "\u001b[1m547/547\u001b[0m \u001b[32m━━━━━━━━━━━━━━━━━━━━\u001b[0m\u001b[37m\u001b[0m \u001b[1m557s\u001b[0m 1s/step - accuracy: 0.9531 - loss: 0.1326 - val_accuracy: 0.8695 - val_loss: 0.3910 - learning_rate: 1.5625e-05\n",
            "Epoch 13: early stopping\n"
          ]
        }
      ]
    },
    {
      "cell_type": "code",
      "source": [
        "x_test_seq = tok.texts_to_sequences([' '.join([reverse_word_i.get(i - 3, '?') for i in review]) for review in x_test])\n",
        "x_test_padded = pad_sequences(x_test_seq, maxlen=max_length)\n",
        "test_loss, test_accuracy = model.evaluate(x_test_padded, y_test)\n",
        "print(f'Test Accuracy: {test_accuracy:.4f}')"
      ],
      "metadata": {
        "colab": {
          "base_uri": "https://localhost:8080/"
        },
        "id": "6IH3PGcHTmH4",
        "outputId": "7e75cd6a-5fa2-4917-cd76-7e8b66cd43f6"
      },
      "execution_count": 16,
      "outputs": [
        {
          "output_type": "stream",
          "name": "stdout",
          "text": [
            "\u001b[1m235/235\u001b[0m \u001b[32m━━━━━━━━━━━━━━━━━━━━\u001b[0m\u001b[37m\u001b[0m \u001b[1m26s\u001b[0m 109ms/step - accuracy: 0.8670 - loss: 0.3855\n",
            "Test Accuracy: 0.8656\n"
          ]
        }
      ]
    },
    {
      "cell_type": "markdown",
      "source": [
        "If you wanna add ur review just change test_review variable to what u want, or assign test_review = Input()\n",
        ""
      ],
      "metadata": {
        "id": "-tRXl7IeWL77"
      }
    },
    {
      "cell_type": "code",
      "source": [
        "test_review = [\"The movie was good, i enjoyed watching it.It was a fantastic one.\"]\n",
        "review_sequence = tok.texts_to_sequences(test_review)\n",
        "padded_review = pad_sequences(review_sequence, maxlen=max_length)\n",
        "\n",
        "prediction = model.predict(padded_review)\n",
        "\n",
        "print(f\"Prediction: {prediction[0]}\")\n",
        "\n",
        "if prediction >= 0.5:\n",
        "    print(\"Positive review!\")\n",
        "else:\n",
        "    print(\"Negative review!\")\n"
      ],
      "metadata": {
        "colab": {
          "base_uri": "https://localhost:8080/"
        },
        "id": "J8ldN75OVcPI",
        "outputId": "ca1060e6-0f6a-4e31-9722-80c51ffe7429"
      },
      "execution_count": 15,
      "outputs": [
        {
          "output_type": "stream",
          "name": "stdout",
          "text": [
            "\u001b[1m1/1\u001b[0m \u001b[32m━━━━━━━━━━━━━━━━━━━━\u001b[0m\u001b[37m\u001b[0m \u001b[1m0s\u001b[0m 81ms/step\n",
            "Prediction: [0.9734551]\n",
            "Positive review!\n"
          ]
        }
      ]
    },
    {
      "cell_type": "code",
      "source": [],
      "metadata": {
        "id": "b4srCI47TGUd"
      },
      "execution_count": null,
      "outputs": []
    }
  ]
}